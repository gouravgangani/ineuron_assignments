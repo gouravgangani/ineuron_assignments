{
 "cells": [
  {
   "cell_type": "markdown",
   "metadata": {},
   "source": [
    "# Task 1"
   ]
  },
  {
   "cell_type": "code",
   "execution_count": 76,
   "metadata": {},
   "outputs": [
    {
     "name": "stdout",
     "output_type": "stream",
     "text": [
      "10\n"
     ]
    }
   ],
   "source": [
    "'''\n",
    "1.1\n",
    "Write a Python Program to implement your own myreduce() function which works exactly \n",
    "like Python's built-in function reduce()\n",
    "'''\n",
    "l = [1,2,3,4]\n",
    "\n",
    "def addFunc(value1, value2):\n",
    "    return value1 + value2\n",
    "\n",
    "\n",
    "def myreduce(addFunc,ls):\n",
    "    add = ls[0]\n",
    "    for i in ls[1:]:\n",
    "        add = addFunc(add, i)\n",
    "    return add\n",
    "       \n",
    "print(myreduce(addFunc,l))"
   ]
  },
  {
   "cell_type": "code",
   "execution_count": 92,
   "metadata": {},
   "outputs": [],
   "source": [
    "'''\n",
    "1.2\n",
    "Write a Python program to implement your own myfilter() function which works exactly \n",
    "like Python's built-in function filter()\n",
    "'''\n",
    "n = [1,2,3,4,5,6,7,8]\n",
    "evenList = list()\n",
    "\n",
    "def evenFunc(m):\n",
    "    evenList.append(m)\n",
    "    return evenList\n",
    "    \n",
    "def myfilter(evenFunc,b):\n",
    "    for i in b[0:]:\n",
    "        if (i % 2 == 0):\n",
    "            finalList = evenFunc(i) \n",
    "    return finalList   \n",
    "            #evenList.append(i)\n",
    "            \n",
    "        \n",
    "evenNums = myfilter(evenFunc,n) "
   ]
  },
  {
   "cell_type": "code",
   "execution_count": 93,
   "metadata": {},
   "outputs": [
    {
     "name": "stdout",
     "output_type": "stream",
     "text": [
      "[2, 4, 6, 8]\n"
     ]
    }
   ],
   "source": [
    "print(evenNums)"
   ]
  },
  {
   "cell_type": "code",
   "execution_count": 43,
   "metadata": {},
   "outputs": [
    {
     "name": "stdout",
     "output_type": "stream",
     "text": [
      "['A', 'C', 'A', 'G', 'I', 'L', 'D']\n",
      "['x', 'xx', 'xxx', 'xxxx', 'y', 'yy', 'yyy', 'yyyy', 'z', 'zz', 'zzz', 'zzzz']\n",
      "['x', 'y', 'z', 'xx', 'yy', 'zz', 'xxx', 'yyy', 'zzz', 'xxxx', 'yyyy', 'zzzz']\n",
      "[[2], [3], [4], [3], [4], [5], [4], [5], [6]]\n",
      "[[2, 3, 4, 5], [3, 4, 5, 6], [4, 5, 6, 7], [5, 6, 7, 8]]\n",
      "[(1, 1), (1, 2), (1, 3), (2, 1), (2, 2), (2, 3), (3, 1), (3, 2), (3, 3)]\n"
     ]
    }
   ],
   "source": [
    "'''\n",
    "2.\n",
    "Implement List comprehensions to produce the following lists. \n",
    "Write List comprehensions to produce the following Lists\n",
    "['A', 'C', 'A', 'D', 'G', 'I', ’L’, ‘ D’]\n",
    "['x', 'xx', 'xxx', 'xxxx', 'y', 'yy', 'yyy', 'yyyy', 'z', 'zz', 'zzz', 'zzzz'] \n",
    "['x', 'y', 'z', 'xx', 'yy', 'zz', 'xx', 'yy', 'zz', 'xxxx', 'yyyy', 'zzzz']\n",
    "[[2], [3], [4], [3], [4], [5], [4], [5], [6]]\n",
    "[[2, 3, 4, 5], [3, 4, 5, 6], [4, 5, 6, 7], [5, 6, 7, 8]]\n",
    "[(1, 1), (2, 1), (3, 1), (1, 2), (2, 2), (3, 2), (1, 3), (2, 3), (3, 3)]\n",
    "'''\n",
    "\n",
    "#1. ['A', 'C', 'A', 'D', 'G', 'I', ’L’, ‘ D’]\n",
    "l1 = \"ACAGILD\"\n",
    "list1 = [i for i in l1]\n",
    "print(list1)\n",
    "\n",
    "#2. ['x', 'xx', 'xxx', 'xxxx', 'y', 'yy', 'yyy', 'yyyy', 'z', 'zz', 'zzz', 'zzzz'] \n",
    "l2 = ['x','y','z']\n",
    "list2 = [i*j for i in l2 for j in range(1,5)]\n",
    "print(list2)\n",
    "\n",
    "#3.['x', 'y', 'z', 'xx', 'yy', 'zz', 'xx', 'yy', 'zz', 'xxxx', 'yyyy', 'zzzz']\n",
    "l3 = ['x','y','z']\n",
    "list3 = [i*j for i in range(1,5) for j in l3]\n",
    "print(list3)\n",
    "\n",
    "#4.[[2], [3], [4], [3], [4], [5], [4], [5], [6]]\n",
    "l4 = [2,3,4]\n",
    "list4 = [[i+j] for i in l4 for j in range(0,3)]\n",
    "print(list4)\n",
    "\n",
    "#5. [[2, 3, 4, 5], [3, 4, 5, 6], [4, 5, 6, 7], [5, 6, 7, 8]]\n",
    "l5 = [2,3,4,5]\n",
    "list5 = [[i+j for i in l5] for j in range(0,4)]\n",
    "print(list5)\n",
    "\n",
    "#6. [(1, 1), (2, 1), (3, 1), (1, 2), (2, 2), (3, 2), (1, 3), (2, 3), (3, 3)]\n",
    "l6 = [1,2,3]\n",
    "list6 = [(i, j) for i in l6 for j in l6]\n",
    "print(list6)"
   ]
  },
  {
   "cell_type": "code",
   "execution_count": 44,
   "metadata": {},
   "outputs": [
    {
     "name": "stdout",
     "output_type": "stream",
     "text": [
      "Unsuccessfully\n"
     ]
    }
   ],
   "source": [
    "'''\n",
    "3.\n",
    "Implement a function longestWord() that takes a list of words and returns the longest one.\n",
    "'''\n",
    "longList = ['hello', 'Why', 'Fox', 'Endeavour','application','human','Unsuccessfully']\n",
    "def longestWord(l):\n",
    "    j = 0\n",
    "    k = 0\n",
    "    for i in longList:\n",
    "        if len(i) > j:\n",
    "            j = len(i)\n",
    "            k = i\n",
    "    return k\n",
    "            \n",
    "print(longestWord(longList))"
   ]
  },
  {
   "cell_type": "markdown",
   "metadata": {},
   "source": [
    "# Task 2"
   ]
  },
  {
   "cell_type": "code",
   "execution_count": 71,
   "metadata": {},
   "outputs": [],
   "source": [
    "'''\n",
    "1.1\n",
    "Write a Python Program(with class concepts) to find the area of the triangle using the below formula.\n",
    "area = (s*(s-a)*(s-b)*(s-c)) ** 0.5\n",
    "Function to take the length of the sides of triangle from user should be defined\n",
    "in the parent class and function to calculate the area should be defined in subclass.\n",
    "'''\n",
    "class Triangle:\n",
    "    \n",
    "    def userInput(self):\n",
    "        a = float(input(\"Enter side a: \"))\n",
    "        b = float(input(\"Enter side b: \"))\n",
    "        c = float(input(\"Enter side c: \"))\n",
    "        s = float(input(\"Enter side s: \"))\n",
    "        return a,b,c,s\n",
    "    \n",
    "class Area(Triangle):\n",
    "    \n",
    "    def compute(self):\n",
    "        a,b,c,s = super().userInput()\n",
    "        area = ((s*(s-a)*(s-b)*(s-c)) **0.5)\n",
    "        return area\n",
    "\n",
    "a = Area()"
   ]
  },
  {
   "cell_type": "code",
   "execution_count": 72,
   "metadata": {},
   "outputs": [
    {
     "name": "stdout",
     "output_type": "stream",
     "text": [
      "Enter side a: 1\n",
      "Enter side b: 2\n",
      "Enter side c: 3\n",
      "Enter side s: 4\n"
     ]
    },
    {
     "data": {
      "text/plain": [
       "4.898979485566356"
      ]
     },
     "execution_count": 72,
     "metadata": {},
     "output_type": "execute_result"
    }
   ],
   "source": [
    "a.compute()"
   ]
  },
  {
   "cell_type": "code",
   "execution_count": 5,
   "metadata": {},
   "outputs": [
    {
     "name": "stdout",
     "output_type": "stream",
     "text": [
      "[2, 3, 4, 5]\n"
     ]
    }
   ],
   "source": [
    "#2.1\n",
    "'''\n",
    "Write a Python program using function concept that maps list of words into a list of integers\n",
    "representing the lengths of the corresponding words​.\n",
    "Hint: ​If a list [ ab,cde,erty] is passed on to the python function output should come as [2,3,4]\n",
    "Here 2,3 and 4 are the lengths of the words in the list.\n",
    "'''\n",
    "\n",
    "def mymap(mylist):\n",
    "    return(len(mylist))\n",
    "\n",
    "mylist = ['aa','aaa','aaaa','aaaaa']\n",
    "charLength = list(map(mymap,mylist))\n",
    "print(charLength)"
   ]
  },
  {
   "cell_type": "code",
   "execution_count": 12,
   "metadata": {},
   "outputs": [
    {
     "name": "stdout",
     "output_type": "stream",
     "text": [
      "Enter the letter:r\n"
     ]
    },
    {
     "data": {
      "text/plain": [
       "[False]"
      ]
     },
     "execution_count": 12,
     "metadata": {},
     "output_type": "execute_result"
    }
   ],
   "source": [
    "'''\n",
    "2.2\n",
    "Write a Python function which takes a character (i.e. a string of length 1) and \n",
    "returns True if it is a vowel, False otherwise\n",
    "'''\n",
    "\n",
    "a = input('Enter the letter:')\n",
    "def isvowel(vowels,a):\n",
    "    if(a == vowels):\n",
    "        return True\n",
    "    else:\n",
    "        return False\n",
    "\n",
    "\n",
    "vowels = ['a','e','i','o','u']\n",
    "isVowel = list(map(isvowel,vowels,a))\n",
    "isVowel"
   ]
  },
  {
   "cell_type": "code",
   "execution_count": 18,
   "metadata": {},
   "outputs": [
    {
     "name": "stdout",
     "output_type": "stream",
     "text": [
      "['xxxxxx', 'xxxxxxxx', 'tttttttttt']\n"
     ]
    }
   ],
   "source": [
    "'''\n",
    "1.2\n",
    "Version - 1\n",
    "Write a function filter_long_words() that takes a list of words and an integer \n",
    "n and returns the list of words that are longer than n.\n",
    "\n",
    "'''\n",
    "\n",
    "n = 5\n",
    "wordList = ['aaa','zzzz','a','xxxxxx','xxxxxxxx','rr','tttttttttt']\n",
    "wordLength = list()\n",
    "def filter_long_words(wordList):\n",
    "    if(len(wordList) >= n):\n",
    "        return wordLength.append(wordList)\n",
    "    \n",
    "list(map(filter_long_words,wordList))\n",
    "print(wordLength)\n",
    "    "
   ]
  },
  {
   "cell_type": "code",
   "execution_count": 27,
   "metadata": {},
   "outputs": [
    {
     "name": "stdout",
     "output_type": "stream",
     "text": [
      "['xxxxxx', 'xxxxxxxx', 'tttttttttt']\n"
     ]
    }
   ],
   "source": [
    "'''\n",
    "1.2\n",
    "Version - 2\n",
    "Write a function filter_long_words() that takes a list of words and an integer \n",
    "n and returns the list of words that are longer than n.\n",
    "\n",
    "'''\n",
    "n = 5\n",
    "wordLength = list()\n",
    "def filter_long_words(wordList):\n",
    "    for i in range(0,len(wordList)):\n",
    "        if(len(wordList[i]) >= n):\n",
    "            wordLength.append(wordList[i])\n",
    "    return wordLength\n",
    "\n",
    "wordList = ['aaa','zzzz','a','xxxxxx','xxxxxxxx','rr','tttttttttt']\n",
    "    \n",
    "wordLenght = filter_long_words(wordList)\n",
    "print(wordLength)"
   ]
  },
  {
   "cell_type": "code",
   "execution_count": null,
   "metadata": {},
   "outputs": [],
   "source": []
  }
 ],
 "metadata": {
  "kernelspec": {
   "display_name": "Python 3",
   "language": "python",
   "name": "python3"
  },
  "language_info": {
   "codemirror_mode": {
    "name": "ipython",
    "version": 3
   },
   "file_extension": ".py",
   "mimetype": "text/x-python",
   "name": "python",
   "nbconvert_exporter": "python",
   "pygments_lexer": "ipython3",
   "version": "3.7.3"
  }
 },
 "nbformat": 4,
 "nbformat_minor": 2
}
